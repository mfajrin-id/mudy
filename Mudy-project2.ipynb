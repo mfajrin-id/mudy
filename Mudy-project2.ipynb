{
 "cells": [
  {
   "cell_type": "code",
   "execution_count": 2,
   "metadata": {},
   "outputs": [],
   "source": [
    "import pandas as pd\n",
    "import numpy as np\n",
    "import matplotlib.pyplot as plt"
   ]
  },
  {
   "cell_type": "code",
   "execution_count": 3,
   "metadata": {},
   "outputs": [
    {
     "data": {
      "text/html": [
       "<div>\n",
       "<style scoped>\n",
       "    .dataframe tbody tr th:only-of-type {\n",
       "        vertical-align: middle;\n",
       "    }\n",
       "\n",
       "    .dataframe tbody tr th {\n",
       "        vertical-align: top;\n",
       "    }\n",
       "\n",
       "    .dataframe thead th {\n",
       "        text-align: right;\n",
       "    }\n",
       "</style>\n",
       "<table border=\"1\" class=\"dataframe\">\n",
       "  <thead>\n",
       "    <tr style=\"text-align: right;\">\n",
       "      <th></th>\n",
       "      <th>UTM X</th>\n",
       "      <th>UTM Y</th>\n",
       "      <th>x</th>\n",
       "      <th>y</th>\n",
       "      <th>tinggi muka air</th>\n",
       "      <th>Konduktivitas</th>\n",
       "      <th>pH</th>\n",
       "      <th>DHL</th>\n",
       "      <th>TDS</th>\n",
       "      <th>DO</th>\n",
       "      <th>Salinitas</th>\n",
       "      <th>nama</th>\n",
       "      <th>nama.1</th>\n",
       "    </tr>\n",
       "  </thead>\n",
       "  <tbody>\n",
       "    <tr>\n",
       "      <th>0</th>\n",
       "      <td>425506.5798</td>\n",
       "      <td>9016957.525</td>\n",
       "      <td>116.322471</td>\n",
       "      <td>-8.892564</td>\n",
       "      <td>2.1</td>\n",
       "      <td>1.80</td>\n",
       "      <td>7.2</td>\n",
       "      <td>-4</td>\n",
       "      <td>118.0</td>\n",
       "      <td>6.8</td>\n",
       "      <td>0.08</td>\n",
       "      <td>sumur 1</td>\n",
       "      <td>10</td>\n",
       "    </tr>\n",
       "    <tr>\n",
       "      <th>1</th>\n",
       "      <td>426247.3281</td>\n",
       "      <td>9015142.744</td>\n",
       "      <td>116.329178</td>\n",
       "      <td>-8.908990</td>\n",
       "      <td>2.4</td>\n",
       "      <td>20.00</td>\n",
       "      <td>7.4</td>\n",
       "      <td>-18</td>\n",
       "      <td>3070.0</td>\n",
       "      <td>6.2</td>\n",
       "      <td>2.07</td>\n",
       "      <td>sumur 2</td>\n",
       "      <td>9</td>\n",
       "    </tr>\n",
       "    <tr>\n",
       "      <th>2</th>\n",
       "      <td>425951.8131</td>\n",
       "      <td>9015308.717</td>\n",
       "      <td>116.326493</td>\n",
       "      <td>-8.907484</td>\n",
       "      <td>2.1</td>\n",
       "      <td>1.90</td>\n",
       "      <td>7.5</td>\n",
       "      <td>-28</td>\n",
       "      <td>134.0</td>\n",
       "      <td>5.9</td>\n",
       "      <td>0.10</td>\n",
       "      <td>sumur 3</td>\n",
       "      <td>8</td>\n",
       "    </tr>\n",
       "    <tr>\n",
       "      <th>3</th>\n",
       "      <td>425098.5417</td>\n",
       "      <td>9015343.089</td>\n",
       "      <td>116.318733</td>\n",
       "      <td>-8.907159</td>\n",
       "      <td>1.9</td>\n",
       "      <td>2.30</td>\n",
       "      <td>7.5</td>\n",
       "      <td>-29</td>\n",
       "      <td>162.0</td>\n",
       "      <td>4.4</td>\n",
       "      <td>0.12</td>\n",
       "      <td>sumur 4</td>\n",
       "      <td>7</td>\n",
       "    </tr>\n",
       "    <tr>\n",
       "      <th>4</th>\n",
       "      <td>425016.0814</td>\n",
       "      <td>9015401.647</td>\n",
       "      <td>116.317984</td>\n",
       "      <td>-8.906628</td>\n",
       "      <td>2.5</td>\n",
       "      <td>2.02</td>\n",
       "      <td>7.4</td>\n",
       "      <td>-19</td>\n",
       "      <td>133.0</td>\n",
       "      <td>4.0</td>\n",
       "      <td>0.09</td>\n",
       "      <td>sumur 5</td>\n",
       "      <td>6</td>\n",
       "    </tr>\n",
       "  </tbody>\n",
       "</table>\n",
       "</div>"
      ],
      "text/plain": [
       "         UTM X        UTM Y           x         y  tinggi muka air   \\\n",
       "0  425506.5798  9016957.525  116.322471 -8.892564               2.1   \n",
       "1  426247.3281  9015142.744  116.329178 -8.908990               2.4   \n",
       "2  425951.8131  9015308.717  116.326493 -8.907484               2.1   \n",
       "3  425098.5417  9015343.089  116.318733 -8.907159               1.9   \n",
       "4  425016.0814  9015401.647  116.317984 -8.906628               2.5   \n",
       "\n",
       "   Konduktivitas   pH  DHL     TDS   DO  Salinitas     nama  nama.1  \n",
       "0           1.80  7.2   -4   118.0  6.8       0.08  sumur 1      10  \n",
       "1          20.00  7.4  -18  3070.0  6.2       2.07  sumur 2       9  \n",
       "2           1.90  7.5  -28   134.0  5.9       0.10  sumur 3       8  \n",
       "3           2.30  7.5  -29   162.0  4.4       0.12  sumur 4       7  \n",
       "4           2.02  7.4  -19   133.0  4.0       0.09  sumur 5       6  "
      ]
     },
     "execution_count": 3,
     "metadata": {},
     "output_type": "execute_result"
    }
   ],
   "source": [
    "data = pd.read_csv(\"data10s.csv\")\n",
    "data.head()"
   ]
  },
  {
   "cell_type": "code",
   "execution_count": 4,
   "metadata": {},
   "outputs": [
    {
     "data": {
      "text/plain": [
       "array([ 118. , 3070. ,  134. ,  162. ,  133. ,  120. ,  188. ,   92.8,\n",
       "         67.3,  160. ])"
      ]
     },
     "execution_count": 4,
     "metadata": {},
     "output_type": "execute_result"
    }
   ],
   "source": [
    "x = np.array(data['TDS'])\n",
    "x"
   ]
  },
  {
   "cell_type": "code",
   "execution_count": 5,
   "metadata": {},
   "outputs": [
    {
     "data": {
      "text/plain": [
       "array([0.08, 2.07, 0.1 , 0.12, 0.09, 0.09, 0.13, 0.07, 0.05, 0.11])"
      ]
     },
     "execution_count": 5,
     "metadata": {},
     "output_type": "execute_result"
    }
   ],
   "source": [
    "y = np.array(data['Salinitas'])\n",
    "y"
   ]
  },
  {
   "cell_type": "code",
   "execution_count": 11,
   "metadata": {},
   "outputs": [
    {
     "data": {
      "image/png": "[encoded data removed]",
      "text/plain": [
       "<Figure size 504x360 with 1 Axes>"
      ]
     },
     "metadata": {
      "needs_background": "light"
     },
     "output_type": "display_data"
    }
   ],
   "source": [
    "fig = plt.figure(figsize = (7, 5))\n",
    "plt.plot(x, y, 'o', color = 'b')\n",
    "plt.text(0.45, 0.75, ' y = 0.0007x + 0.0055', transform=fig.transFigure, color='k', fontname=\"Times New Roman\", fontsize = 13.5)\n",
    "plt.text(0.45, 0.70, '$\\mathregular{R^{2}}$ = 0.9999', transform=fig.transFigure, color='k', fontname=\"Times New Roman\", fontsize = 13.5)\n",
    "plt.xlabel('TDS (mg/L)', fontsize = 15, fontname=\"Times New Roman\")\n",
    "plt.ylabel('Salinity (ppt)',  fontsize = 15, fontname=\"Times New Roman\")\n",
    "m, b = np.polyfit(x, y, 1)\n",
    "plt.plot(x, m*x + b, color = 'y')\n",
    "plt.savefig('grafik2.png', dpi=600)"
   ]
  },
  {
   "cell_type": "code",
   "execution_count": null,
   "metadata": {},
   "outputs": [],
   "source": []
  }
 ],
 "metadata": {
  "kernelspec": {
   "display_name": "Python 3",
   "language": "python",
   "name": "python3"
  },
  "language_info": {
   "codemirror_mode": {
    "name": "ipython",
    "version": 3
   },
   "file_extension": ".py",
   "mimetype": "text/x-python",
   "name": "python",
   "nbconvert_exporter": "python",
   "pygments_lexer": "ipython3",
   "version": "3.8.5"
  }
 },
 "nbformat": 4,
 "nbformat_minor": 4
}
